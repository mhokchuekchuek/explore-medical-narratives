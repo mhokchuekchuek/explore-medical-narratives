{
 "cells": [
  {
   "cell_type": "markdown",
   "metadata": {},
   "source": [
    "# set display"
   ]
  },
  {
   "cell_type": "code",
   "execution_count": 39,
   "metadata": {},
   "outputs": [],
   "source": [
    "import pandas as pd\n",
    "pd.set_option('display.max_rows', 500)\n",
    "pd.set_option('display.max_columns', 500)\n",
    "pd.set_option('display.width', 1000)"
   ]
  },
  {
   "cell_type": "markdown",
   "metadata": {},
   "source": [
    "# import data"
   ]
  },
  {
   "cell_type": "code",
   "execution_count": 40,
   "metadata": {},
   "outputs": [],
   "source": [
    "import pandas as pd\n",
    "df = pd.read_csv(\"data/primary_data.csv\")"
   ]
  },
  {
   "cell_type": "markdown",
   "metadata": {},
   "source": [
    "# processing data\n",
    "- renamed hisp to hispanic in other_race\n",
    "- change other(3) in race according to other race\n",
    "    - if yes(1) in hispanic and unknown in other_race change other_race according to hispanic\n",
    "    - else UNKNOWN\n",
    "- change other(71) in diagnosis according to other_diagnosis\n",
    "- change other(71) in diagnosis_2 according to to other_diagnosis_2\n",
    "- change nan in body_part_2, diagnosis_2 to no\n",
    "- remove unused cols: other_race, other_diagnosis, other_diagnosis_2"
   ]
  },
  {
   "cell_type": "code",
   "execution_count": 42,
   "metadata": {},
   "outputs": [],
   "source": [
    "def fill_diagnosis(diagnosis, other_diagnosis):\n",
    "    if diagnosis == 71:\n",
    "        return other_diagnosis\n",
    "    else:\n",
    "        return diagnosis"
   ]
  },
  {
   "cell_type": "code",
   "execution_count": 15,
   "metadata": {},
   "outputs": [],
   "source": [
    "def fill_race(race, other_race, hispanic):\n",
    "    if race == 3:\n",
    "        if hispanic == 1 and other_race== \"UNKNOWN\":\n",
    "            return \"HISPANIC\"\n",
    "        elif hispanic == 0 and other_race== \"UNKNOWN\":\n",
    "            return \"UNKNOWN\"\n",
    "        else:\n",
    "            return other_race\n",
    "    else:\n",
    "        return race"
   ]
  },
  {
   "cell_type": "code",
   "execution_count": 43,
   "metadata": {},
   "outputs": [],
   "source": [
    "df[\"other_race\"] =  df[\"other_race\"].apply(lambda race: \"HISPANIC\" if race == \"HISP\" else race)\n",
    "df[\"race\"] = df[[\"race\", \"other_race\", \"hispanic\"]].apply(lambda row: fill_race(*row), axis=1)\n",
    "df[\"diagnosis\"] = df[[\"diagnosis\", \"other_diagnosis\"]].apply(lambda row: fill_diagnosis(*row), axis=1)\n",
    "df[\"diagnosis_2\"] = df[[\"diagnosis_2\", \"other_diagnosis_2\"]].apply(lambda row: fill_diagnosis(*row), axis=1)\n",
    "df[\"body_part_2\"] = df[\"body_part_2\"].fillna(\"no\")\n",
    "df[\"diagnosis_2\"] = df[\"body_part_2\"].fillna(\"no\")\n",
    "df = df.drop(columns=[\"other_race\", \"other_diagnosis\", \"other_diagnosis_2\"])"
   ]
  },
  {
   "cell_type": "markdown",
   "metadata": {},
   "source": [
    "# mapper from json"
   ]
  },
  {
   "cell_type": "code",
   "execution_count": 44,
   "metadata": {},
   "outputs": [],
   "source": [
    "import json\n",
    "f = open(\"data/variable_mapping.json\")\n",
    "mapper = json.load(f)"
   ]
  },
  {
   "cell_type": "code",
   "execution_count": 55,
   "metadata": {},
   "outputs": [],
   "source": [
    "import re\n",
    "\n",
    "def value_mapper(idx, cols):\n",
    "    if idx in mapper[cols].keys():\n",
    "        value = mapper[cols][idx]\n",
    "        return re.sub(r\"\\d.\\s-\\s\", \"\", value)\n",
    "    else:\n",
    "        return idx"
   ]
  },
  {
   "cell_type": "code",
   "execution_count": 57,
   "metadata": {},
   "outputs": [],
   "source": [
    "for col in df.columns:\n",
    "    if col in mapper.keys():\n",
    "        df[col] = df[col].astype(str)\n",
    "        df[col] = df[col].apply(value_mapper, cols= col)\n",
    "    "
   ]
  },
  {
   "cell_type": "code",
   "execution_count": 60,
   "metadata": {},
   "outputs": [],
   "source": [
    "df.to_csv(\"data/cleaned_df.csv\")"
   ]
  },
  {
   "cell_type": "code",
   "execution_count": null,
   "metadata": {},
   "outputs": [],
   "source": []
  }
 ],
 "metadata": {
  "kernelspec": {
   "display_name": "mhok",
   "language": "python",
   "name": "python3"
  },
  "language_info": {
   "codemirror_mode": {
    "name": "ipython",
    "version": 3
   },
   "file_extension": ".py",
   "mimetype": "text/x-python",
   "name": "python",
   "nbconvert_exporter": "python",
   "pygments_lexer": "ipython3",
   "version": "3.9.16"
  },
  "orig_nbformat": 4
 },
 "nbformat": 4,
 "nbformat_minor": 2
}
